{
 "cells": [
  {
   "cell_type": "code",
   "execution_count": 47,
   "metadata": {},
   "outputs": [],
   "source": [
    "import numpy as np\n",
    "import matplotlib.pyplot as plt\n",
    "\n",
    "from sklearn.pipeline import make_pipeline\n",
    "from sklearn.preprocessing import MinMaxScaler\n",
    "from sklearn.svm import SVC\n",
    "from sklearn.neural_network import MLPClassifier\n",
    "from sklearn.metrics import accuracy_score\n",
    "\n",
    "import tensorflow as tf\n",
    "import tensorflow.keras as K\n",
    "\n",
    "import pickle\n",
    "from zipfile import ZipFile, ZIP_DEFLATED\n",
    "\n",
    "from skimage.color import rgb2gray, label2rgb\n",
    "from lime import lime_image"
   ]
  },
  {
   "cell_type": "code",
   "execution_count": 2,
   "metadata": {},
   "outputs": [],
   "source": [
    "fashion_mnist = K.datasets.fashion_mnist\n",
    "(train_images, train_labels), (test_images, test_labels) = fashion_mnist.load_data()\n",
    "class_names = {\n",
    "    0: 'T-shirt/top',\n",
    "    1: 'Trouser',\n",
    "    2: 'Pullover',\n",
    "    3: 'Dress',\n",
    "    4: 'Coat',\n",
    "    5: 'Sandal',\n",
    "    6: 'Shirt',\n",
    "    7: 'Sneaker',\n",
    "    8: 'Bag',\n",
    "    9: 'Ankle boot'\n",
    "}"
   ]
  },
  {
   "cell_type": "code",
   "execution_count": 3,
   "metadata": {},
   "outputs": [
    {
     "data": {
      "image/png": "[encoded data removed]",
      "text/plain": [
       "<Figure size 432x288 with 2 Axes>"
      ]
     },
     "metadata": {
      "needs_background": "light"
     },
     "output_type": "display_data"
    }
   ],
   "source": [
    "plt.figure()\n",
    "plt.imshow(train_images[train_labels == 0][0])\n",
    "plt.colorbar()\n",
    "plt.grid(False)\n",
    "plt.show()"
   ]
  },
  {
   "cell_type": "code",
   "execution_count": 4,
   "metadata": {},
   "outputs": [],
   "source": [
    "reshape_2d = lambda X: X.reshape(X.shape[0], np.product(X.shape[1:]))\n",
    "\n",
    "X_train = reshape_2d(train_images)\n",
    "X_test = reshape_2d(test_images)\n",
    "\n",
    "y_train = train_labels\n",
    "y_test = test_labels"
   ]
  },
  {
   "cell_type": "code",
   "execution_count": 52,
   "metadata": {},
   "outputs": [],
   "source": [
    "svc = make_pipeline(\n",
    "    MinMaxScaler(),\n",
    "    SVC(probability=True)\n",
    ")"
   ]
  },
  {
   "cell_type": "code",
   "execution_count": null,
   "metadata": {},
   "outputs": [],
   "source": [
    "%time svc.fit(X_train, y_train)"
   ]
  },
  {
   "cell_type": "code",
   "execution_count": 34,
   "metadata": {},
   "outputs": [],
   "source": [
    "# with ZipFile('svc.zip', 'x', compression=ZIP_DEFLATED) as f:\n",
    "#     f.writestr('svc.pickle', pickle.dumps(svc))\n",
    "with ZipFile('svc.zip', 'r') as f:\n",
    "    svc = pickle.loads(f.read('svc.pickle'))"
   ]
  },
  {
   "cell_type": "code",
   "execution_count": 30,
   "metadata": {},
   "outputs": [
    {
     "name": "stdout",
     "output_type": "stream",
     "text": [
      "CPU times: user 3min 47s, sys: 179 ms, total: 3min 47s\n",
      "Wall time: 3min 49s\n"
     ]
    },
    {
     "data": {
      "text/plain": [
       "0.8829"
      ]
     },
     "execution_count": 30,
     "metadata": {},
     "output_type": "execute_result"
    }
   ],
   "source": [
    "%time accuracy_score(y_test, svc.predict(X_test))"
   ]
  },
  {
   "cell_type": "code",
   "execution_count": 46,
   "metadata": {},
   "outputs": [],
   "source": [
    "mlp = make_pipeline(\n",
    "    MinMaxScaler(),\n",
    "    MLPClassifier(early_stopping=True, verbose=True)\n",
    ")"
   ]
  },
  {
   "cell_type": "code",
   "execution_count": 47,
   "metadata": {
    "collapsed": true,
    "jupyter": {
     "outputs_hidden": true
    }
   },
   "outputs": [
    {
     "name": "stdout",
     "output_type": "stream",
     "text": [
      "Iteration 1, loss = 0.61131821\n",
      "Validation score: 0.840333\n",
      "Iteration 2, loss = 0.43244805\n",
      "Validation score: 0.853000\n",
      "Iteration 3, loss = 0.38934420\n",
      "Validation score: 0.862000\n",
      "Iteration 4, loss = 0.36608853\n",
      "Validation score: 0.877167\n",
      "Iteration 5, loss = 0.34732336\n",
      "Validation score: 0.874500\n",
      "Iteration 6, loss = 0.33114487\n",
      "Validation score: 0.866833\n",
      "Iteration 7, loss = 0.31832689\n",
      "Validation score: 0.874167\n",
      "Iteration 8, loss = 0.30508123\n",
      "Validation score: 0.881000\n",
      "Iteration 9, loss = 0.29798159\n",
      "Validation score: 0.877000\n",
      "Iteration 10, loss = 0.28690735\n",
      "Validation score: 0.880333\n",
      "Iteration 11, loss = 0.28101085\n",
      "Validation score: 0.874667\n",
      "Iteration 12, loss = 0.27427755\n",
      "Validation score: 0.885333\n",
      "Iteration 13, loss = 0.26739319\n",
      "Validation score: 0.879167\n",
      "Iteration 14, loss = 0.26245442\n",
      "Validation score: 0.887167\n",
      "Iteration 15, loss = 0.25408786\n",
      "Validation score: 0.888500\n",
      "Iteration 16, loss = 0.24653524\n",
      "Validation score: 0.889500\n",
      "Iteration 17, loss = 0.24632591\n",
      "Validation score: 0.873833\n",
      "Iteration 18, loss = 0.23814370\n",
      "Validation score: 0.884000\n",
      "Iteration 19, loss = 0.23387611\n",
      "Validation score: 0.887333\n",
      "Iteration 20, loss = 0.22842209\n",
      "Validation score: 0.891000\n",
      "Iteration 21, loss = 0.22689662\n",
      "Validation score: 0.889167\n",
      "Iteration 22, loss = 0.22106864\n",
      "Validation score: 0.891000\n",
      "Iteration 23, loss = 0.21712368\n",
      "Validation score: 0.888833\n",
      "Iteration 24, loss = 0.21329247\n",
      "Validation score: 0.889000\n",
      "Iteration 25, loss = 0.20882629\n",
      "Validation score: 0.892500\n",
      "Iteration 26, loss = 0.20527442\n",
      "Validation score: 0.886500\n",
      "Iteration 27, loss = 0.20118411\n",
      "Validation score: 0.890167\n",
      "Iteration 28, loss = 0.19798977\n",
      "Validation score: 0.887833\n",
      "Iteration 29, loss = 0.19756039\n",
      "Validation score: 0.889333\n",
      "Iteration 30, loss = 0.19087133\n",
      "Validation score: 0.888667\n",
      "Iteration 31, loss = 0.18802316\n",
      "Validation score: 0.887833\n",
      "Iteration 32, loss = 0.18536984\n",
      "Validation score: 0.890000\n",
      "Iteration 33, loss = 0.18064782\n",
      "Validation score: 0.892667\n",
      "Iteration 34, loss = 0.17996009\n",
      "Validation score: 0.882000\n",
      "Iteration 35, loss = 0.17877083\n",
      "Validation score: 0.894167\n",
      "Iteration 36, loss = 0.17126530\n",
      "Validation score: 0.893167\n",
      "Iteration 37, loss = 0.17146484\n",
      "Validation score: 0.894833\n",
      "Iteration 38, loss = 0.16909524\n",
      "Validation score: 0.891167\n",
      "Iteration 39, loss = 0.16506703\n",
      "Validation score: 0.893667\n",
      "Iteration 40, loss = 0.16218420\n",
      "Validation score: 0.890167\n",
      "Iteration 41, loss = 0.16100490\n",
      "Validation score: 0.891000\n",
      "Iteration 42, loss = 0.15632753\n",
      "Validation score: 0.893333\n",
      "Iteration 43, loss = 0.15864949\n",
      "Validation score: 0.891333\n",
      "Iteration 44, loss = 0.15273335\n",
      "Validation score: 0.894167\n",
      "Iteration 45, loss = 0.15118112\n",
      "Validation score: 0.888500\n",
      "Iteration 46, loss = 0.14774937\n",
      "Validation score: 0.890667\n",
      "Iteration 47, loss = 0.14335536\n",
      "Validation score: 0.893667\n",
      "Iteration 48, loss = 0.14217929\n",
      "Validation score: 0.892500\n",
      "Validation score did not improve more than tol=0.000100 for 10 consecutive epochs. Stopping.\n",
      "CPU times: user 4min 52s, sys: 2min 23s, total: 7min 15s\n",
      "Wall time: 2min\n"
     ]
    },
    {
     "data": {
      "text/plain": [
       "Pipeline(steps=[('minmaxscaler', MinMaxScaler()),\n",
       "                ('mlpclassifier',\n",
       "                 MLPClassifier(early_stopping=True, verbose=True))])"
      ]
     },
     "execution_count": 47,
     "metadata": {},
     "output_type": "execute_result"
    }
   ],
   "source": [
    "%time mlp.fit(X_train, y_train)"
   ]
  },
  {
   "cell_type": "code",
   "execution_count": 5,
   "metadata": {},
   "outputs": [],
   "source": [
    "# with ZipFile('mlp.zip', 'x', compression=ZIP_DEFLATED) as f:\n",
    "#     f.writestr('mlp.pickle', pickle.dumps(mlp))\n",
    "with ZipFile('mlp.zip', 'r') as f:\n",
    "    mlp = pickle.loads(f.read('mlp.pickle'))"
   ]
  },
  {
   "cell_type": "code",
   "execution_count": 50,
   "metadata": {},
   "outputs": [
    {
     "name": "stdout",
     "output_type": "stream",
     "text": [
      "CPU times: user 365 ms, sys: 76.3 ms, total: 441 ms\n",
      "Wall time: 194 ms\n"
     ]
    },
    {
     "data": {
      "text/plain": [
       "0.8874"
      ]
     },
     "execution_count": 50,
     "metadata": {},
     "output_type": "execute_result"
    }
   ],
   "source": [
    "%time accuracy_score(y_test, mlp.predict(X_test))"
   ]
  },
  {
   "cell_type": "code",
   "execution_count": 3,
   "metadata": {},
   "outputs": [],
   "source": [
    "preprocess_X = lambda X: X / 255.0\n",
    "\n",
    "X_train = preprocess_X(train_images)\n",
    "X_test = preprocess_X(test_images)\n",
    "\n",
    "y_train = K.utils.to_categorical(train_labels, len(class_names))\n",
    "y_test = K.utils.to_categorical(test_labels, len(class_names))"
   ]
  },
  {
   "cell_type": "code",
   "execution_count": 4,
   "metadata": {},
   "outputs": [],
   "source": [
    "max_p_class = lambda P: P.argmax(axis=-1)\n",
    "!cat fmnist_resnet_model.h5* > fmnist_resnet_model.h5\n",
    "resnet = K.models.load_model('fmnist_resnet_model.h5')\n",
    "!rm fmnist_resnet_model.h5"
   ]
  },
  {
   "cell_type": "code",
   "execution_count": 54,
   "metadata": {},
   "outputs": [
    {
     "name": "stdout",
     "output_type": "stream",
     "text": [
      "CPU times: user 1min 28s, sys: 1.06 s, total: 1min 29s\n",
      "Wall time: 29.6 s\n"
     ]
    },
    {
     "data": {
      "text/plain": [
       "0.9172"
      ]
     },
     "execution_count": 54,
     "metadata": {},
     "output_type": "execute_result"
    }
   ],
   "source": [
    "%time accuracy_score(max_p_class(y_test), max_p_class(resnet.predict(X_test)))"
   ]
  },
  {
   "cell_type": "code",
   "execution_count": 6,
   "metadata": {},
   "outputs": [
    {
     "data": {
      "text/plain": [
       "'Sandal'"
      ]
     },
     "execution_count": 6,
     "metadata": {},
     "output_type": "execute_result"
    },
    {
     "data": {
      "image/png": "[encoded data removed]",
      "text/plain": [
       "<Figure size 432x288 with 1 Axes>"
      ]
     },
     "metadata": {
      "needs_background": "light"
     },
     "output_type": "display_data"
    }
   ],
   "source": [
    "plt.imshow(X_test[-1].reshape(28, 28));\n",
    "class_names[y_test[-1]]"
   ]
  },
  {
   "cell_type": "code",
   "execution_count": 39,
   "metadata": {},
   "outputs": [],
   "source": [
    "def mlp_predict_proba(X):\n",
    "    X = rgb2gray(X)\n",
    "    X = X.reshape(*X.shape[:-2], np.product(X.shape[-2:]))\n",
    "    return mlp.predict_proba(X)"
   ]
  },
  {
   "cell_type": "code",
   "execution_count": 81,
   "metadata": {},
   "outputs": [
    {
     "data": {
      "application/vnd.jupyter.widget-view+json": {
       "model_id": "95c6c88c27b34a9083d627e6f0cbd396",
       "version_major": 2,
       "version_minor": 0
      },
      "text/plain": [
       "  0%|          | 0/1000 [00:00<?, ?it/s]"
      ]
     },
     "metadata": {},
     "output_type": "display_data"
    }
   ],
   "source": [
    "explainer = lime_image.LimeImageExplainer()\n",
    "explanation = explainer.explain_instance(X_test[-1].reshape(28, 28), mlp_predict_proba, labels=class_names.keys())"
   ]
  },
  {
   "cell_type": "code",
   "execution_count": 41,
   "metadata": {},
   "outputs": [
    {
     "data": {
      "text/plain": [
       "['__class__',\n",
       " '__delattr__',\n",
       " '__dict__',\n",
       " '__dir__',\n",
       " '__doc__',\n",
       " '__eq__',\n",
       " '__format__',\n",
       " '__ge__',\n",
       " '__getattribute__',\n",
       " '__gt__',\n",
       " '__hash__',\n",
       " '__init__',\n",
       " '__init_subclass__',\n",
       " '__le__',\n",
       " '__lt__',\n",
       " '__module__',\n",
       " '__ne__',\n",
       " '__new__',\n",
       " '__reduce__',\n",
       " '__reduce_ex__',\n",
       " '__repr__',\n",
       " '__setattr__',\n",
       " '__sizeof__',\n",
       " '__str__',\n",
       " '__subclasshook__',\n",
       " '__weakref__',\n",
       " 'get_image_and_mask',\n",
       " 'image',\n",
       " 'intercept',\n",
       " 'local_exp',\n",
       " 'local_pred',\n",
       " 'score',\n",
       " 'segments',\n",
       " 'top_labels']"
      ]
     },
     "execution_count": 41,
     "metadata": {},
     "output_type": "execute_result"
    }
   ],
   "source": [
    "dir(explanation)"
   ]
  },
  {
   "cell_type": "code",
   "execution_count": 112,
   "metadata": {},
   "outputs": [
    {
     "data": {
      "text/plain": [
       "<matplotlib.image.AxesImage at 0x7f798a8ad150>"
      ]
     },
     "execution_count": 112,
     "metadata": {},
     "output_type": "execute_result"
    },
    {
     "data": {
      "image/png": "[encoded data removed]",
      "text/plain": [
       "<Figure size 432x288 with 1 Axes>"
      ]
     },
     "metadata": {
      "needs_background": "light"
     },
     "output_type": "display_data"
    }
   ],
   "source": [
    "img, mask = explanation.get_image_and_mask(7, num_features=10)\n",
    "plt.imshow(label2rgb(mask, img, bg_label=0))"
   ]
  },
  {
   "cell_type": "code",
   "execution_count": 173,
   "metadata": {},
   "outputs": [],
   "source": [
    "y_pred_proba = mlp.predict_proba(X_test)\n",
    "least_sure = np.amax(y_pred_proba, axis=-1).argmin()"
   ]
  },
  {
   "cell_type": "code",
   "execution_count": 511,
   "metadata": {},
   "outputs": [
    {
     "data": {
      "text/plain": [
       "<matplotlib.image.AxesImage at 0x7f794e972e10>"
      ]
     },
     "execution_count": 511,
     "metadata": {},
     "output_type": "execute_result"
    },
    {
     "data": {
      "image/png": "[encoded data removed]",
      "text/plain": [
       "<Figure size 432x288 with 1 Axes>"
      ]
     },
     "metadata": {
      "needs_background": "light"
     },
     "output_type": "display_data"
    }
   ],
   "source": [
    "plt.imshow(X_test[0].reshape(28, 28))"
   ]
  },
  {
   "cell_type": "code",
   "execution_count": 812,
   "metadata": {},
   "outputs": [
    {
     "data": {
      "text/plain": [
       "<BarContainer object of 10 artists>"
      ]
     },
     "execution_count": 812,
     "metadata": {},
     "output_type": "execute_result"
    },
    {
     "data": {
      "image/png": "[encoded data removed]",
      "text/plain": [
       "<Figure size 432x288 with 1 Axes>"
      ]
     },
     "metadata": {
      "needs_background": "light"
     },
     "output_type": "display_data"
    }
   ],
   "source": [
    "plt.bar(range(10), y_pred_proba[0])"
   ]
  },
  {
   "cell_type": "code",
   "execution_count": 513,
   "metadata": {},
   "outputs": [
    {
     "data": {
      "text/plain": [
       "{0: 'T-shirt/top',\n",
       " 1: 'Trouser',\n",
       " 2: 'Pullover',\n",
       " 3: 'Dress',\n",
       " 4: 'Coat',\n",
       " 5: 'Sandal',\n",
       " 6: 'Shirt',\n",
       " 7: 'Sneaker',\n",
       " 8: 'Bag',\n",
       " 9: 'Ankle boot'}"
      ]
     },
     "execution_count": 513,
     "metadata": {},
     "output_type": "execute_result"
    }
   ],
   "source": [
    "class_names"
   ]
  },
  {
   "cell_type": "code",
   "execution_count": 849,
   "metadata": {},
   "outputs": [],
   "source": [
    "from lime.wrappers.scikit_image import SegmentationAlgorithm\n",
    "segmenter = SegmentationAlgorithm('quickshift', kernel_size=1, max_dist=3, ratio=0.15)"
   ]
  },
  {
   "cell_type": "code",
   "execution_count": 850,
   "metadata": {},
   "outputs": [
    {
     "data": {
      "application/vnd.jupyter.widget-view+json": {
       "model_id": "974f986876be486d876582ddb1757869",
       "version_major": 2,
       "version_minor": 0
      },
      "text/plain": [
       "  0%|          | 0/1000 [00:00<?, ?it/s]"
      ]
     },
     "metadata": {},
     "output_type": "display_data"
    }
   ],
   "source": [
    "explanation = explainer.explain_instance(X_test[0].reshape(28, 28), mlp_predict_proba, hide_color=0, top_labels=10, segmentation_fn=segmenter)"
   ]
  },
  {
   "cell_type": "code",
   "execution_count": 851,
   "metadata": {},
   "outputs": [
    {
     "data": {
      "text/plain": [
       "<matplotlib.image.AxesImage at 0x7f7947f6cf90>"
      ]
     },
     "execution_count": 851,
     "metadata": {},
     "output_type": "execute_result"
    },
    {
     "data": {
      "image/png": "[encoded data removed]",
      "text/plain": [
       "<Figure size 432x288 with 1 Axes>"
      ]
     },
     "metadata": {
      "needs_background": "light"
     },
     "output_type": "display_data"
    }
   ],
   "source": [
    "img, mask = explanation.get_image_and_mask(9, num_features=18, positive_only=False, negative_only=False)\n",
    "plt.imshow(label2rgb(3-mask, img, bg_label=0))"
   ]
  },
  {
   "cell_type": "code",
   "execution_count": 852,
   "metadata": {},
   "outputs": [
    {
     "data": {
      "text/plain": [
       "<matplotlib.image.AxesImage at 0x7f7947f3e710>"
      ]
     },
     "execution_count": 852,
     "metadata": {},
     "output_type": "execute_result"
    },
    {
     "data": {
      "image/png": "[encoded data removed]",
      "text/plain": [
       "<Figure size 432x288 with 1 Axes>"
      ]
     },
     "metadata": {
      "needs_background": "light"
     },
     "output_type": "display_data"
    }
   ],
   "source": [
    "plt.imshow(explanation.segments)"
   ]
  },
  {
   "cell_type": "code",
   "execution_count": 848,
   "metadata": {},
   "outputs": [
    {
     "data": {
      "text/plain": [
       "<matplotlib.image.AxesImage at 0x7f7947ff2a50>"
      ]
     },
     "execution_count": 848,
     "metadata": {},
     "output_type": "execute_result"
    },
    {
     "data": {
      "image/png": "[encoded data removed]",
      "text/plain": [
       "<Figure size 432x288 with 1 Axes>"
      ]
     },
     "metadata": {
      "needs_background": "light"
     },
     "output_type": "display_data"
    }
   ],
   "source": [
    "plt.imshow(explanation.image)"
   ]
  },
  {
   "cell_type": "code",
   "execution_count": null,
   "metadata": {},
   "outputs": [],
   "source": []
  }
 ],
 "metadata": {
  "kernelspec": {
   "display_name": "Python 3",
   "language": "python",
   "name": "python3"
  },
  "language_info": {
   "codemirror_mode": {
    "name": "ipython",
    "version": 3
   },
   "file_extension": ".py",
   "mimetype": "text/x-python",
   "name": "python",
   "nbconvert_exporter": "python",
   "pygments_lexer": "ipython3",
   "version": "3.7.9"
  }
 },
 "nbformat": 4,
 "nbformat_minor": 4
}
